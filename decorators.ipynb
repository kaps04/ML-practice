{
  "nbformat": 4,
  "nbformat_minor": 0,
  "metadata": {
    "colab": {
      "provenance": [],
      "authorship_tag": "ABX9TyPuJmGJdnebYxdhEPrzrClM",
      "include_colab_link": true
    },
    "kernelspec": {
      "name": "python3",
      "display_name": "Python 3"
    },
    "language_info": {
      "name": "python"
    }
  },
  "cells": [
    {
      "cell_type": "markdown",
      "metadata": {
        "id": "view-in-github",
        "colab_type": "text"
      },
      "source": [
        "<a href=\"https://colab.research.google.com/github/kaps04/Python-practice/blob/main/decorators.ipynb\" target=\"_parent\"><img src=\"https://colab.research.google.com/assets/colab-badge.svg\" alt=\"Open In Colab\"/></a>"
      ]
    },
    {
      "cell_type": "markdown",
      "source": [
        "The most basic use case for a decorator in Python is to modify the behavior of a function or a method. Decorators allows you to:\n",
        "- **modify the behaviour of a function or class:**  wrap another function in order to extend the behavior of the wrapped function, without permanently modifying it.\n"
      ],
      "metadata": {
        "id": "k7mtIMgScYhp"
      }
    },
    {
      "cell_type": "code",
      "execution_count": 1,
      "metadata": {
        "id": "2TawscG0byCv"
      },
      "outputs": [],
      "source": [
        "def simple_decorator(func):\n",
        "    print('Inside simple_decorator')\n",
        "    def wrapper():\n",
        "        print(\"Before the function runs\")\n",
        "        func()\n",
        "        print(\"After the function runs\")\n",
        "\n",
        "    print('Outside simple_decorator')\n",
        "    return wrapper"
      ]
    },
    {
      "cell_type": "code",
      "source": [
        "@simple_decorator\n",
        "def say_hi():\n",
        "    print(\"Hii\")\n",
        "\n",
        "say_hi()"
      ],
      "metadata": {
        "colab": {
          "base_uri": "https://localhost:8080/"
        },
        "id": "9FbGpehmb22U",
        "outputId": "6f9654c9-0025-4b0e-b4d1-62a0db623695"
      },
      "execution_count": 2,
      "outputs": [
        {
          "output_type": "stream",
          "name": "stdout",
          "text": [
            "Inside simple_decorator\n",
            "Outside simple_decorator\n",
            "Before the function runs\n",
            "Hii\n",
            "After the function runs\n"
          ]
        }
      ]
    },
    {
      "cell_type": "code",
      "source": [
        "say_hello = simple_decorator(say_hi)\n",
        "print(say_hi)\n",
        "# say_hi()"
      ],
      "metadata": {
        "colab": {
          "base_uri": "https://localhost:8080/"
        },
        "id": "MaoGX3-ab_Ml",
        "outputId": "8c9208fc-a05e-41ed-b7c1-990a6e4c5db7"
      },
      "execution_count": 3,
      "outputs": [
        {
          "output_type": "stream",
          "name": "stdout",
          "text": [
            "Inside simple_decorator\n",
            "Outside simple_decorator\n",
            "<function simple_decorator.<locals>.wrapper at 0x7b6fa9c14160>\n"
          ]
        }
      ]
    },
    {
      "cell_type": "code",
      "source": [],
      "metadata": {
        "id": "Y_2Kzro4cJlA"
      },
      "execution_count": null,
      "outputs": []
    }
  ]
}