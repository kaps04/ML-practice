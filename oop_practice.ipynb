{
  "nbformat": 4,
  "nbformat_minor": 0,
  "metadata": {
    "colab": {
      "provenance": [],
      "authorship_tag": "ABX9TyO6d/jTb51s32b4eaE/KhVv",
      "include_colab_link": true
    },
    "kernelspec": {
      "name": "python3",
      "display_name": "Python 3"
    },
    "language_info": {
      "name": "python"
    }
  },
  "cells": [
    {
      "cell_type": "markdown",
      "metadata": {
        "id": "view-in-github",
        "colab_type": "text"
      },
      "source": [
        "<a href=\"https://colab.research.google.com/github/kaps04/ML-practice/blob/main/oop_practice.ipynb\" target=\"_parent\"><img src=\"https://colab.research.google.com/assets/colab-badge.svg\" alt=\"Open In Colab\"/></a>"
      ]
    },
    {
      "cell_type": "code",
      "execution_count": null,
      "metadata": {
        "colab": {
          "base_uri": "https://localhost:8080/"
        },
        "id": "KrRajXz7OWTl",
        "outputId": "838af75b-03ea-479e-a577-6c0b059df314"
      },
      "outputs": [
        {
          "output_type": "stream",
          "name": "stdout",
          "text": [
            "<class '__main__.myprofile'>\n",
            "<__main__.myprofile object at 0x7b3739da59c0>\n"
          ]
        }
      ],
      "source": [
        "# Syntax:\n",
        "\n",
        "class myprofile: # myprofile()\n",
        "    # Class body\n",
        "    pass\n",
        "\n",
        "\n",
        "profile1 = myprofile()\n",
        "print(myprofile)\n",
        "print(profile1)"
      ]
    },
    {
      "cell_type": "code",
      "source": [
        "dir(myprofile)"
      ],
      "metadata": {
        "colab": {
          "base_uri": "https://localhost:8080/"
        },
        "id": "97yUxtQIO1o_",
        "outputId": "8a5c5d76-cfdb-4716-8fb9-5739ce8a365b"
      },
      "execution_count": null,
      "outputs": [
        {
          "output_type": "execute_result",
          "data": {
            "text/plain": [
              "['__class__',\n",
              " '__delattr__',\n",
              " '__dict__',\n",
              " '__dir__',\n",
              " '__doc__',\n",
              " '__eq__',\n",
              " '__format__',\n",
              " '__ge__',\n",
              " '__getattribute__',\n",
              " '__gt__',\n",
              " '__hash__',\n",
              " '__init__',\n",
              " '__init_subclass__',\n",
              " '__le__',\n",
              " '__lt__',\n",
              " '__module__',\n",
              " '__ne__',\n",
              " '__new__',\n",
              " '__reduce__',\n",
              " '__reduce_ex__',\n",
              " '__repr__',\n",
              " '__setattr__',\n",
              " '__sizeof__',\n",
              " '__str__',\n",
              " '__subclasshook__',\n",
              " '__weakref__']"
            ]
          },
          "metadata": {},
          "execution_count": 2
        }
      ]
    },
    {
      "cell_type": "code",
      "source": [
        "profile1.name = 'Kalpana Acharya'\n",
        "profile1.age = 21\n",
        "profile1.classname = 'BEI078'\n",
        "\n",
        "print(f'Name of the Student: {profile1.name}\\nAge of the Student: {profile1.age}\\nClass of the Student: {profile1.classname}')\n"
      ],
      "metadata": {
        "colab": {
          "base_uri": "https://localhost:8080/"
        },
        "id": "eFqPjtPUO2Pn",
        "outputId": "122256bf-d374-40ff-8a2a-9f651aa4e0dc"
      },
      "execution_count": null,
      "outputs": [
        {
          "output_type": "stream",
          "name": "stdout",
          "text": [
            "Name of the Student: Kalpana Acharya\n",
            "Age of the Student: 21\n",
            "Class of the Student: BEI078\n"
          ]
        }
      ]
    },
    {
      "cell_type": "code",
      "source": [
        "name = 'XYZ'\n",
        "age = 20\n",
        "classname = 'BEI079'\n",
        "print(f'Name of the Student: {name}\\nAge of the Student: {age}\\nClass of the Student: {classname}')\n",
        "print('*********************************')\n",
        "print(f'Name of the Student: {profile1.name}\\nAge of the Student: {profile1.age}\\nClass of the Student: {profile1.classname}')"
      ],
      "metadata": {
        "colab": {
          "base_uri": "https://localhost:8080/"
        },
        "id": "LjU0doF7QQlF",
        "outputId": "bec1d06b-8fae-44fd-db43-115ecfc36c53"
      },
      "execution_count": null,
      "outputs": [
        {
          "output_type": "stream",
          "name": "stdout",
          "text": [
            "Name of the Student: XYZ\n",
            "Age of the Student: 20\n",
            "Class of the Student: BEI079\n",
            "*********************************\n",
            "Name of the Student: Kalpana Acharya\n",
            "Age of the Student: 21\n",
            "Class of the Student: BEI078\n"
          ]
        }
      ]
    },
    {
      "cell_type": "code",
      "source": [
        "class myprofile:\n",
        "    def __init__(self, name, age, classname):\n",
        "        self.name = name\n",
        "        self.age = age\n",
        "        self.classname = classname\n",
        "\n",
        "# Creating an instance of the StudentProfile class\n",
        "profile1 = myprofile(\"Kalpana Acharya\", 21, \"BEI078\")\n",
        "\n",
        "print(f'Name of the Student: {profile1.name}\\nAge of the Student: {profile1.age}\\nClass of the Student: {profile1.classname}')"
      ],
      "metadata": {
        "colab": {
          "base_uri": "https://localhost:8080/"
        },
        "id": "4G1GfA_CRAeD",
        "outputId": "8a0ba1ad-be76-4175-edd1-dcf1f6dd8aef"
      },
      "execution_count": null,
      "outputs": [
        {
          "output_type": "stream",
          "name": "stdout",
          "text": [
            "Name of the Student: Kalpana Acharya\n",
            "Age of the Student: 21\n",
            "Class of the Student: BEI078\n"
          ]
        }
      ]
    },
    {
      "cell_type": "code",
      "source": [
        "class myprofile:\n",
        "    def __init__(self, name, age, classname):\n",
        "        self.name = name\n",
        "        self.age = age\n",
        "        self.classname = classname\n",
        "\n",
        "    def __str__(self) -> str:\n",
        "        \"\"\" String representation of the Student Profile \"\"\"\n",
        "        return f'Hello {self.name} of age {self.age}, studying in class {self.classname}'\n",
        "\n",
        "profile1 = myprofile(\"Kalpana Acharya\", 21, \"BEI078\")\n",
        "print(profile1)"
      ],
      "metadata": {
        "colab": {
          "base_uri": "https://localhost:8080/"
        },
        "id": "Q7ztpOjKVWSB",
        "outputId": "a8aabfd2-f812-4d88-8513-c5ae35b853c7"
      },
      "execution_count": null,
      "outputs": [
        {
          "output_type": "stream",
          "name": "stdout",
          "text": [
            "Hello Kalpana Acharya of age 21, studying in class BEI078\n"
          ]
        }
      ]
    },
    {
      "cell_type": "code",
      "source": [
        "class myprofile:\n",
        "    def __init__(self, name, age, classname):\n",
        "        self.name = name\n",
        "        self.age = age\n",
        "        self.classname = classname\n",
        "\n",
        "    def __str__(self) -> str:\n",
        "        \"\"\" String representation of the Student Profile \"\"\"\n",
        "        return f'Hello {self.name} of age {self.age}, studying in class {self.classname}'\n",
        "\n",
        "    # Define update_age within the class\n",
        "    def update_age(self, new_age: int) -> int:\n",
        "        \"\"\"Updates the age of the student\"\"\"\n",
        "        self.age = new_age\n",
        "\n",
        "    # Define update_classname within the class\n",
        "    def update_classname(self, new_classname: str) -> str:\n",
        "        \"\"\"Updates the classname of the student\"\"\"\n",
        "        self.classname = new_classname\n",
        "\n",
        "    # Define greet within the class\n",
        "    def greet(self) -> str:\n",
        "        \"\"\"Returns a personalized greeting\"\"\"\n",
        "        return f'Hi {self.name}! Welcome to the class {self.classname}.'\n",
        "\n",
        "    # Define is_adult within the class\n",
        "    def is_adult(self) -> bool:\n",
        "        \"\"\"Checks if the student is an adult (18 years or older)\"\"\"\n",
        "        return self.age >= 18\n",
        "\n",
        "profile1 = myprofile(\"Kalpana Acharya\", 22, \"BEI077\")\n",
        "\n",
        "print(profile1,'\\n')\n",
        "\n",
        "profile1.update_age(23)\n",
        "print(profile1,'\\n')\n",
        "\n",
        "profile1.update_classname(\"BEI078\")\n",
        "print(profile1,'\\n')\n",
        "\n",
        "print(profile1.greet(),'\\n')\n",
        "\n",
        "print(f'Is the student an adult? {profile1.is_adult()}')\n",
        "profile1 = myprofile(\"Kalpana Acharya\", 22, \"BEI077\")\n",
        "profile2 = myprofile(\"Kalpana Acharya\", 22, \"BEI077\")\n",
        "profile3 = myprofile(\"Acharya Kalpana\", 23, \"BEI077\")\n",
        "\n",
        "# Checking for equality\n",
        "print(profile1 == profile2)  # True\n",
        "print(profile1 == profile3)  # False\n"
      ],
      "metadata": {
        "colab": {
          "base_uri": "https://localhost:8080/"
        },
        "id": "_zcAu1FXY0Yq",
        "outputId": "4f92683f-405d-4e56-cbd4-fd436637e651"
      },
      "execution_count": 10,
      "outputs": [
        {
          "output_type": "stream",
          "name": "stdout",
          "text": [
            "Hello Kalpana Acharya of age 22, studying in class BEI077 \n",
            "\n",
            "Hello Kalpana Acharya of age 23, studying in class BEI077 \n",
            "\n",
            "Hello Kalpana Acharya of age 23, studying in class BEI078 \n",
            "\n",
            "Hi Kalpana Acharya! Welcome to the class BEI078. \n",
            "\n",
            "Is the student an adult? True\n",
            "False\n",
            "False\n"
          ]
        }
      ]
    },
    {
      "cell_type": "code",
      "source": [],
      "metadata": {
        "id": "vnWYafwKroyX"
      },
      "execution_count": null,
      "outputs": []
    }
  ]
}