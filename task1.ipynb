{
  "nbformat": 4,
  "nbformat_minor": 0,
  "metadata": {
    "colab": {
      "provenance": [],
      "authorship_tag": "ABX9TyP1mAD/6Dju14+FFp9cScdO",
      "include_colab_link": true
    },
    "kernelspec": {
      "name": "python3",
      "display_name": "Python 3"
    },
    "language_info": {
      "name": "python"
    }
  },
  "cells": [
    {
      "cell_type": "markdown",
      "metadata": {
        "id": "view-in-github",
        "colab_type": "text"
      },
      "source": [
        "<a href=\"https://colab.research.google.com/github/kaps04/ML-practice/blob/main/task1.ipynb\" target=\"_parent\"><img src=\"https://colab.research.google.com/assets/colab-badge.svg\" alt=\"Open In Colab\"/></a>"
      ]
    },
    {
      "cell_type": "code",
      "execution_count": null,
      "metadata": {
        "id": "vbnd1CeVGUeB"
      },
      "outputs": [],
      "source": [
        "class book:\n",
        "    def __init__(item,title:str ,author:str ,pages:int):\n",
        "        item.title=title\n",
        "        item.author=author\n",
        "        item.pages=pages\n",
        "        item.borrowed= False\n",
        "\n",
        "    def __str__(item):\n",
        "        return f\"{item.title} by {item.author}\"\n",
        "\n",
        "\n"
      ]
    },
    {
      "cell_type": "code",
      "source": [
        "class Library:\n",
        "  def __init__(item,books:str, borrowed_books:dict):\n",
        "    #initialize library class\n",
        "    item.books=[]\n",
        "    item.borrowed_books={}\n",
        "\n",
        "  def add_book(item,book):\n",
        "    #add book to library\n",
        "    item.books.append(book)\n",
        "    print(f\"{book} added to library\")\n",
        "\n",
        "  def list_books(item):\n",
        "    #list all books in library\n",
        "    if not item.books:\n",
        "      print(\"No books in library\")\n",
        "    else:\n",
        "      for book in item.books:\n",
        "        status=\"borrowed\" if book.borrowed==True else \"available\"\n",
        "        print(f\"{book}:{status}\")\n",
        "\n",
        "\n",
        "  def borrow_book(item,book_title,student):\n",
        "    #borrow book from library\n",
        "    for book in item.books:\n",
        "      if book.title==book_title and not  book.borrowed:\n",
        "        if len(student.borrowed_books)<3:\n",
        "          student.borrowed_books.append(book)\n",
        "          book.borrowed=True\n",
        "          print(f\"{book_title} borrowed by {student}\")\n",
        "        else:\n",
        "          print(f\"{student} has reached the maximum number of borrowed books\")\n",
        "        if book_title in item.borrowed_books:\n",
        "          item.borrowed_books[book_title].append(student)\n",
        "        else:\n",
        "          item.borrowed_books[book_title]=[student]\n",
        "\n",
        "\n",
        "\n",
        "  def return_book(item,book_title,student):\n",
        "    if book_title in item.borrowed_books:\n",
        "      borrowers = item.borrowed_books[book_title]\n",
        "      if student in borrowers:\n",
        "        # Find the actual book object to update its borrowed status\n",
        "        for book in item.books:\n",
        "          if book.title == book_title:\n",
        "            book.borrowed = False\n",
        "            break\n",
        "        borrowers.remove(student)\n",
        "        if not borrowers:  # If no more borrowers for this book\n",
        "          item.borrowed_books.pop(book_title)\n",
        "        student.return_book(book) # Assuming student class has a return_book method\n",
        "        print(f\"{book_title} returned by {student.name}\")\n",
        "      else:\n",
        "        print(f\"{student.name} did not borrow {book_title}\")\n",
        "    else:\n",
        "      print(f\"{book_title} was not borrowed from the library\")"
      ],
      "metadata": {
        "id": "U-O0XnCMKEj0"
      },
      "execution_count": null,
      "outputs": []
    },
    {
      "cell_type": "code",
      "source": [
        "class student:\n",
        "  def __init__(item,name,borrowed_books):\n",
        "    item.name=name\n",
        "    item.borrowed_books=[]\n",
        "\n",
        "  def borrow_book(item, book):\n",
        "    item.borrowed_books.append(book)\n",
        "\n",
        "  def return_book(item, book):\n",
        "    item.borrowed_books.remove(book)\n",
        "\n",
        "  def list_borrowed_books(items):\n",
        "    for book in items.borrowed_books:\n",
        "      print(book)\n"
      ],
      "metadata": {
        "id": "olIzKBN0LdOO"
      },
      "execution_count": null,
      "outputs": []
    },
    {
      "cell_type": "code",
      "source": [
        "library= Library([],{})\n",
        "book1=book(\"book1\",\"author1\",100)\n",
        "book2=book(\"book2\",\"author2\",200)\n",
        "library.add_book(book1)\n",
        "library.add_book(book2)\n",
        "\n",
        "student1=student(\"ram\",[]) # Initialize student with borrowed_books\n",
        "student2=student(\"shyam\",[]) # Initialize student with borrowed_books\n",
        "\n",
        "# Pass student object to borrow_book method\n",
        "library.borrow_book(\"book1\",student1)\n",
        "library.return_book(\"book1\",student1) # Pass student object to return_book method\n",
        "library.borrow_book(\"book2\",student2)\n",
        "library.return_book(\"book2\",student2) # Pass student object to return_book method\n",
        "\n",
        "\n",
        "student1.list_borrowed_books()\n",
        "student2.list_borrowed_books()"
      ],
      "metadata": {
        "colab": {
          "base_uri": "https://localhost:8080/"
        },
        "id": "o2_WVU7MQFId",
        "outputId": "3254f237-9e5c-42a2-b200-f17d28563a4a"
      },
      "execution_count": null,
      "outputs": [
        {
          "output_type": "stream",
          "name": "stdout",
          "text": [
            "book1 by author1 added to library\n",
            "book2 by author2 added to library\n",
            "book1 borrowed by <__main__.student object at 0x7b570dfa2c20>\n",
            "book1 returned by ram\n",
            "book2 borrowed by <__main__.student object at 0x7b570dfa1b70>\n",
            "book2 returned by shyam\n"
          ]
        }
      ]
    },
    {
      "cell_type": "code",
      "source": [],
      "metadata": {
        "id": "Wy5QJvcefEDq"
      },
      "execution_count": null,
      "outputs": []
    }
  ]
}